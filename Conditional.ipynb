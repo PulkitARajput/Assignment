{
 "cells": [
  {
   "cell_type": "code",
   "execution_count": 73,
   "id": "a5890d2f-2d83-486d-8212-7da48bd6516d",
   "metadata": {},
   "outputs": [],
   "source": [
    "marks =1\n"
   ]
  },
  {
   "cell_type": "code",
   "execution_count": null,
   "id": "555ed8e4-80d6-4ad2-8e1b-91d52759809a",
   "metadata": {},
   "outputs": [
    {
     "name": "stdin",
     "output_type": "stream",
     "text": [
      " 10\n"
     ]
    }
   ],
   "source": [
    "##marks=int(input())"
   ]
  },
  {
   "cell_type": "code",
   "execution_count": 7,
   "id": "07d55383-8618-4e66-9c39-a9975faa3038",
   "metadata": {},
   "outputs": [
    {
     "name": "stdout",
     "output_type": "stream",
     "text": [
      "You will be part of B1 batch\n"
     ]
    }
   ],
   "source": [
    "\n",
    "if marks>90:\n",
    "    print(\"You will be a part of A1 Batch\")\n",
    "elif marks>60 and marks<=90:\n",
    "    print(\"You will be a part of A2 Batch\")\n",
    "else:\n",
    "    print(\"You will be part of B1 batch\")"
   ]
  },
  {
   "cell_type": "code",
   "execution_count": 1,
   "id": "94b554a4-a309-4ae4-b124-e9f170ae4b0d",
   "metadata": {},
   "outputs": [
    {
     "data": {
      "text/plain": [
       "True"
      ]
     },
     "execution_count": 1,
     "metadata": {},
     "output_type": "execute_result"
    }
   ],
   "source": [
    "10>=80 or 11>10"
   ]
  },
  {
   "cell_type": "code",
   "execution_count": 5,
   "id": "7ebb172e-752d-4a9d-8b79-0ec4380de994",
   "metadata": {},
   "outputs": [
    {
     "name": "stdin",
     "output_type": "stream",
     "text": [
      " 10\n"
     ]
    }
   ],
   "source": [
    "marks=int(input())"
   ]
  },
  {
   "cell_type": "code",
   "execution_count": 6,
   "id": "9589c6b3-e0a8-45b2-9d9f-feab5c788efc",
   "metadata": {},
   "outputs": [
    {
     "data": {
      "text/plain": [
       "int"
      ]
     },
     "execution_count": 6,
     "metadata": {},
     "output_type": "execute_result"
    }
   ],
   "source": [
    "type(marks)"
   ]
  },
  {
   "cell_type": "code",
   "execution_count": 8,
   "id": "62e198b0-1914-4b6a-8d4b-5359f8baf7aa",
   "metadata": {},
   "outputs": [],
   "source": [
    "l1=[12,34,45,100,123]"
   ]
  },
  {
   "cell_type": "code",
   "execution_count": 27,
   "id": "dc6f7de9-158e-4d43-8050-b095109f03e0",
   "metadata": {},
   "outputs": [
    {
     "name": "stdout",
     "output_type": "stream",
     "text": [
      "13\n",
      "35\n",
      "46\n",
      "101\n",
      "124\n"
     ]
    }
   ],
   "source": [
    "for i in l1:\n",
    "    print(i+1)"
   ]
  },
  {
   "cell_type": "markdown",
   "id": "d08f9684-0a28-4218-9b6e-2392ea0d86f1",
   "metadata": {},
   "source": [
    "# "
   ]
  },
  {
   "cell_type": "code",
   "execution_count": 28,
   "id": "cee2b0ef-73da-4236-aa85-2ce223e6789e",
   "metadata": {},
   "outputs": [
    {
     "data": {
      "text/plain": [
       "[12, 34, 45, 100, 123]"
      ]
     },
     "execution_count": 28,
     "metadata": {},
     "output_type": "execute_result"
    }
   ],
   "source": [
    "l1"
   ]
  },
  {
   "cell_type": "code",
   "execution_count": 34,
   "id": "28cf977f-b1f0-4b5b-98d5-c701b6d8b610",
   "metadata": {},
   "outputs": [
    {
     "name": "stdout",
     "output_type": "stream",
     "text": [
      "[13, 35, 46, 101, 124]\n"
     ]
    }
   ],
   "source": [
    "l2=[]\n",
    "for i in l1:\n",
    "    l2.append(i+1)\n",
    "print(l2)"
   ]
  },
  {
   "cell_type": "code",
   "execution_count": 35,
   "id": "c666ed60-e7d7-47d4-8b58-2d07645c0e5c",
   "metadata": {},
   "outputs": [],
   "source": [
    "l=['pulkit','rajput','cse']"
   ]
  },
  {
   "cell_type": "code",
   "execution_count": 43,
   "id": "76f2d485-95aa-49c8-842b-45b8ac91f958",
   "metadata": {},
   "outputs": [
    {
     "name": "stdout",
     "output_type": "stream",
     "text": [
      "['PULKIT', 'RAJPUT', 'CSE']\n"
     ]
    }
   ],
   "source": [
    "l1=[]\n",
    "\n",
    "for i in l:\n",
    "    l1.append(i.upper())\n",
    "print(l2)    "
   ]
  },
  {
   "cell_type": "code",
   "execution_count": 45,
   "id": "f7e3069e-4b35-41b9-8d36-c5e21485a164",
   "metadata": {},
   "outputs": [
    {
     "data": {
      "text/plain": [
       "'pulkit'"
      ]
     },
     "execution_count": 45,
     "metadata": {},
     "output_type": "execute_result"
    }
   ],
   "source": [
    "l[0]"
   ]
  },
  {
   "cell_type": "code",
   "execution_count": 46,
   "id": "83b90d9e-0cb9-4694-be31-f080f99f9d40",
   "metadata": {},
   "outputs": [],
   "source": [
    "s='Pulkit'"
   ]
  },
  {
   "cell_type": "code",
   "execution_count": 49,
   "id": "a69bad5f-986e-4212-a9ba-b9ff191a02e4",
   "metadata": {},
   "outputs": [
    {
     "data": {
      "text/plain": [
       "True"
      ]
     },
     "execution_count": 49,
     "metadata": {},
     "output_type": "execute_result"
    }
   ],
   "source": [
    "s.isalpha()"
   ]
  },
  {
   "cell_type": "code",
   "execution_count": 70,
   "id": "fd6f2c28-25e2-4ade-8bb1-d9b150bc23f3",
   "metadata": {},
   "outputs": [],
   "source": [
    "l=['Pulkit',101,12,12,12,234,12.345,True,False,'Rajput']"
   ]
  },
  {
   "cell_type": "code",
   "execution_count": 54,
   "id": "850f364a-0555-42fd-91fb-12f385b18fb2",
   "metadata": {},
   "outputs": [
    {
     "data": {
      "text/plain": [
       "bool"
      ]
     },
     "execution_count": 54,
     "metadata": {},
     "output_type": "execute_result"
    }
   ],
   "source": [
    "type(True)"
   ]
  },
  {
   "cell_type": "code",
   "execution_count": 71,
   "id": "585c0317-7feb-4372-97ce-990162841416",
   "metadata": {},
   "outputs": [],
   "source": [
    "l1=[]\n",
    "l2=[]\n",
    "l3=[]\n",
    "for i in l:\n",
    "    if type(i)==str:\n",
    "        l1.append(i)\n",
    "    elif type(i)==bool:\n",
    "        l2.append(i)\n",
    "    else:\n",
    "        l3.append(i) "
   ]
  },
  {
   "cell_type": "code",
   "execution_count": 72,
   "id": "e54d417e-ea91-488f-b8d0-04f15652d579",
   "metadata": {},
   "outputs": [
    {
     "data": {
      "text/plain": [
       "['Pulkit', 'Rajput']"
      ]
     },
     "execution_count": 72,
     "metadata": {},
     "output_type": "execute_result"
    }
   ],
   "source": [
    "l1"
   ]
  },
  {
   "cell_type": "code",
   "execution_count": 74,
   "id": "edd2704e-13ca-4939-bd84-c9c4ef367757",
   "metadata": {},
   "outputs": [
    {
     "data": {
      "text/plain": [
       "[True, False]"
      ]
     },
     "execution_count": 74,
     "metadata": {},
     "output_type": "execute_result"
    }
   ],
   "source": [
    "l2"
   ]
  },
  {
   "cell_type": "code",
   "execution_count": 75,
   "id": "b4a1a859-55d7-4857-83e4-472c7538aef9",
   "metadata": {},
   "outputs": [
    {
     "data": {
      "text/plain": [
       "[101, 12, 12, 12, 234, 12.345]"
      ]
     },
     "execution_count": 75,
     "metadata": {},
     "output_type": "execute_result"
    }
   ],
   "source": [
    "l3"
   ]
  },
  {
   "cell_type": "code",
   "execution_count": null,
   "id": "3c6fd2ac-8001-4dbb-a7fe-3888c117422b",
   "metadata": {},
   "outputs": [],
   "source": []
  }
 ],
 "metadata": {
  "kernelspec": {
   "display_name": "Python 3 (ipykernel)",
   "language": "python",
   "name": "python3"
  },
  "language_info": {
   "codemirror_mode": {
    "name": "ipython",
    "version": 3
   },
   "file_extension": ".py",
   "mimetype": "text/x-python",
   "name": "python",
   "nbconvert_exporter": "python",
   "pygments_lexer": "ipython3",
   "version": "3.10.8"
  }
 },
 "nbformat": 4,
 "nbformat_minor": 5
}
