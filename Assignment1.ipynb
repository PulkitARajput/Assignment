{
 "cells": [
  {
   "cell_type": "code",
   "execution_count": null,
   "id": "c65c2f90-2e9d-41ba-b8c9-faba227d372b",
   "metadata": {},
   "outputs": [],
   "source": [
    "##1.Difference between for and while loop"
   ]
  },
  {
   "cell_type": "code",
   "execution_count": 11,
   "id": "59cdf3c4-02ae-4fa2-bc00-3d3389371ff1",
   "metadata": {},
   "outputs": [
    {
     "name": "stdout",
     "output_type": "stream",
     "text": [
      "[8, 64, 125, 216, 512, 1000, 1728, 2744, 3375, 4096, 5832, 8000, 10648, 13824, 15625, 17576, 21952, 27000, 32768, 39304, 42875, 46656, 54872, 64000, 74088, 85184, 91125, 97336, 110592, 125000, 140608, 157464, 166375, 175616, 195112, 216000, 238328, 262144, 274625, 287496, 314432, 343000, 373248, 405224, 421875, 438976, 474552, 512000, 551368, 592704, 614125, 636056, 681472, 729000, 778688, 830584, 857375, 884736, 941192, 1000000]\n",
      "Length of that is 60\n"
     ]
    }
   ],
   "source": [
    "#Answer 4\n",
    "#result=1\n",
    "l1=[]\n",
    "for i in range(1,101):\n",
    "    result=i*i*i\n",
    "    if result%4==0 or result%5==0:\n",
    "        l1.append(result)\n",
    "print(l1)\n",
    "\n",
    "print(\"Length of that is\", len(l1))\n",
    "    "
   ]
  },
  {
   "cell_type": "code",
   "execution_count": 16,
   "id": "6a27562a-397c-473f-a42a-2338e05fbf71",
   "metadata": {},
   "outputs": [
    {
     "name": "stdin",
     "output_type": "stream",
     "text": [
      "Enter units of electricity consumed 500\n"
     ]
    },
    {
     "name": "stdout",
     "output_type": "stream",
     "text": [
      "Amount to be paid is: 10000\n"
     ]
    }
   ],
   "source": [
    "#Answer 3\n",
    "units=int(input(\"Enter units of electricity consumed\"))\n",
    "\n",
    "if units>0 and units<=100:\n",
    "    bill_amount=units*4\n",
    "    print(\"Amount to be paid is:\", bill_amount)\n",
    "elif units>100 and units<=200:\n",
    "    bill_amount=units*6\n",
    "    print(\"Amount to be paid is:\", bill_amount)\n",
    "elif units>200 and units<=300:\n",
    "    bill_amount=units*10\n",
    "    print(\"Amount to be paid is:\", bill_amount)\n",
    "elif units>300:\n",
    "    bill_amount=units*20\n",
    "    print(\"Amount to be paid is:\", bill_amount)\n",
    "    "
   ]
  },
  {
   "cell_type": "code",
   "execution_count": 18,
   "id": "dc68fb35-30fd-4d40-8172-fdf093691b5e",
   "metadata": {},
   "outputs": [
    {
     "name": "stdout",
     "output_type": "stream",
     "text": [
      "3628800\n"
     ]
    },
    {
     "data": {
      "text/plain": [
       "3628800"
      ]
     },
     "execution_count": 18,
     "metadata": {},
     "output_type": "execute_result"
    }
   ],
   "source": [
    "#Answer2\n",
    "result=1\n",
    "for i in range(1,11):\n",
    "    result=result*i\n",
    "print(result)\n",
    "\n",
    "\n",
    "#while loop\n",
    "result=1\n",
    "counter=1\n",
    "while counter<=10:\n",
    "    result=result*counter\n",
    "    counter=counter+1\n",
    "result"
   ]
  },
  {
   "cell_type": "code",
   "execution_count": 19,
   "id": "636e8814-88f4-42c9-b144-4f4aa43f660a",
   "metadata": {},
   "outputs": [
    {
     "name": "stdout",
     "output_type": "stream",
     "text": [
      "['I', 'a', 'o', 'e', 'o', 'e', 'a', 'a', 'a', 'i', 'e', 'i']\n",
      "12\n"
     ]
    }
   ],
   "source": [
    "#Answer 5\n",
    "l=\"I want to become a data scientist\"\n",
    "l1=[]\n",
    "vowels='AIEOUaieou'\n",
    "for i in l:\n",
    "    if i in vowels:\n",
    "        l1.append(i)\n",
    "print(l1)\n",
    "print(len(l1))"
   ]
  },
  {
   "cell_type": "code",
   "execution_count": null,
   "id": "d845b99d-b254-42ac-b10c-2ce3b6a5e541",
   "metadata": {},
   "outputs": [],
   "source": []
  }
 ],
 "metadata": {
  "kernelspec": {
   "display_name": "Python 3 (ipykernel)",
   "language": "python",
   "name": "python3"
  },
  "language_info": {
   "codemirror_mode": {
    "name": "ipython",
    "version": 3
   },
   "file_extension": ".py",
   "mimetype": "text/x-python",
   "name": "python",
   "nbconvert_exporter": "python",
   "pygments_lexer": "ipython3",
   "version": "3.10.8"
  }
 },
 "nbformat": 4,
 "nbformat_minor": 5
}
